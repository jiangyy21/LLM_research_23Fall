{
 "cells": [
  {
   "cell_type": "code",
   "execution_count": 7,
   "id": "a95fed7c-50ee-440c-b772-4840db5c4661",
   "metadata": {},
   "outputs": [],
   "source": [
    "import openai\n",
    "import os"
   ]
  },
  {
   "cell_type": "code",
   "execution_count": 29,
   "id": "7b27dcbc-795c-4f67-a7b9-9dce5c3a995b",
   "metadata": {},
   "outputs": [],
   "source": [
    "def chatgpt_response(content):\n",
    "    \n",
    "    import openai\n",
    "    openai.api_key = \"\"\n",
    "    \n",
    "    response = openai.ChatCompletion.create(\n",
    "      model=\"gpt-3.5-turbo\",\n",
    "      messages=[\n",
    "        {\n",
    "          \"role\": \"system\",\n",
    "          \"content\": \"\"\"You will be provided with a context. Your task is\n",
    "              1. Identify the corresponding travel mode as Subway, Bus, Bike, Taxi or Uber\n",
    "              2. Classify the user's satisfaction with the corresponding travel mode as Satisfied or Dissatisfied\n",
    "              3. If the user is not satisfied, give the reason behind\n",
    "              \"\"\"\n",
    "        },\n",
    "        {\n",
    "          \"role\": \"user\",\n",
    "          \"content\": content\n",
    "        }\n",
    "      ],\n",
    "      temperature=0,\n",
    "      max_tokens=256,\n",
    "      top_p=1,\n",
    "      frequency_penalty=0,\n",
    "      presence_penalty=0\n",
    "    )\n",
    "    \n",
    "    print(response.choices[0]['message']['content'])"
   ]
  },
  {
   "cell_type": "code",
   "execution_count": 31,
   "id": "52bfee5d-1eda-4a48-8699-68e16a7a5fbb",
   "metadata": {},
   "outputs": [
    {
     "name": "stdout",
     "output_type": "stream",
     "text": [
      "Travel Mode: Bus\n",
      "Satisfaction: Dissatisfied\n",
      "Reason: Long wait time and no shuttle bus arrival\n"
     ]
    }
   ],
   "source": [
    "content1 = \"\"\"\n",
    "@NJTRANSIT_MBPJ @NJTRANSIT @aew1776 @FuckNjTransit \n",
    "\n",
    "8:45am……approaching AN HOUR WAITING\n",
    "\n",
    "STILL no shuttle bus has shown up at Salisbury Mills….\n",
    "\n",
    "We’re LITERALLY 1 stop from Harriman and nothing……\n",
    "\"\"\"\n",
    "chatgpt_response(content1)"
   ]
  },
  {
   "cell_type": "code",
   "execution_count": 32,
   "id": "1079bdd3-d393-4fd6-8cb3-9952affb0650",
   "metadata": {},
   "outputs": [
    {
     "name": "stdout",
     "output_type": "stream",
     "text": [
      "This context does not provide any information related to travel mode or user satisfaction.\n"
     ]
    }
   ],
   "source": [
    "content2 = \"somebody said dr. strange is the the best of the mcu\"\n",
    "chatgpt_response(content2)"
   ]
  },
  {
   "cell_type": "code",
   "execution_count": 34,
   "id": "079021f4-542b-46d4-9d06-8ae1d9dddbf1",
   "metadata": {},
   "outputs": [
    {
     "name": "stdout",
     "output_type": "stream",
     "text": [
      "Travel Mode: Bus\n",
      "Satisfaction: Dissatisfied\n",
      "\n",
      "Reason for Dissatisfaction: The bus is out of service and the user is not allowed to disembark.\n"
     ]
    }
   ],
   "source": [
    "content3 = 'bus out of service. engine off, lights out. not allowed to disembark as still on the highway, approaching the bronx, near lafayette avenue. bus driver already called for assistance, waiting quietly and patiently for the next bus https: and and t.co and 6sxouvhg1v'\n",
    "chatgpt_response(content3)"
   ]
  },
  {
   "cell_type": "code",
   "execution_count": null,
   "id": "54e9172b-208e-479c-88fc-5f8c26dd3853",
   "metadata": {},
   "outputs": [],
   "source": []
  }
 ],
 "metadata": {
  "kernelspec": {
   "display_name": "Python 3 (ipykernel)",
   "language": "python",
   "name": "python3"
  },
  "language_info": {
   "codemirror_mode": {
    "name": "ipython",
    "version": 3
   },
   "file_extension": ".py",
   "mimetype": "text/x-python",
   "name": "python",
   "nbconvert_exporter": "python",
   "pygments_lexer": "ipython3",
   "version": "3.9.7"
  }
 },
 "nbformat": 4,
 "nbformat_minor": 5
}
